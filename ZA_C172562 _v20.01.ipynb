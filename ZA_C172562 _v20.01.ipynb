{
 "cells": [
  {
   "cell_type": "markdown",
   "metadata": {},
   "source": [
    "# 1. Load Data\n",
    "\n",
    "- Programmatically download and load into your favorite analytical tool the transactions data. The data is in line-delimited JSON format\n",
    "\n",
    "- Please describe the structure of the data. Number of records and fields in each record?\n",
    "\n",
    "- Please provide some additional basic summary statistics for each field. Be sure to include a count of null, minimum, maximum, and unique values where appropriate."
   ]
  },
  {
   "cell_type": "code",
   "execution_count": 1,
   "metadata": {},
   "outputs": [],
   "source": [
    "#A set of modules and libraries used in the data processing and modeling\n",
    "\n",
    "import warnings\n",
    "warnings.simplefilter('ignore')\n",
    "\n",
    "import json\n",
    "import pandas as pd\n",
    "import numpy as np\n",
    "from sklearn import preprocessing\n",
    "import matplotlib.pyplot as plt\n",
    "plt.rc(\"font\", size=14)\n",
    "from sklearn.linear_model import LogisticRegression\n",
    "from sklearn.model_selection import train_test_split\n",
    "import seaborn as sns\n",
    "sns.set(style=\"white\")\n",
    "sns.set(style=\"whitegrid\",color_codes=True)"
   ]
  },
  {
   "cell_type": "code",
   "execution_count": 2,
   "metadata": {},
   "outputs": [],
   "source": [
    "#Load json data and format and into pandas dataframe\n",
    "data = []\n",
    "with open('transactions.json', 'r') as f:\n",
    "    for line in f:\n",
    "        data.append(json.loads(line))"
   ]
  },
  {
   "cell_type": "code",
   "execution_count": 3,
   "metadata": {},
   "outputs": [],
   "source": [
    "with open('data.json', 'wb') as f:\n",
    "    data_str = json.dumps(data)\n",
    "    f.write(bytes(data_str,'utf-8'))"
   ]
  },
  {
   "cell_type": "code",
   "execution_count": 4,
   "metadata": {},
   "outputs": [],
   "source": [
    "df = pd.read_json('data.json')"
   ]
  },
  {
   "cell_type": "code",
   "execution_count": 5,
   "metadata": {},
   "outputs": [
    {
     "name": "stdout",
     "output_type": "stream",
     "text": [
      "<class 'pandas.core.frame.DataFrame'>\n",
      "RangeIndex: 786363 entries, 0 to 786362\n",
      "Data columns (total 29 columns):\n",
      "accountNumber               786363 non-null int64\n",
      "accountOpenDate             786363 non-null object\n",
      "acqCountry                  786363 non-null object\n",
      "availableMoney              786363 non-null float64\n",
      "cardCVV                     786363 non-null int64\n",
      "cardLast4Digits             786363 non-null int64\n",
      "cardPresent                 786363 non-null bool\n",
      "creditLimit                 786363 non-null int64\n",
      "currentBalance              786363 non-null float64\n",
      "currentExpDate              786363 non-null object\n",
      "customerId                  786363 non-null int64\n",
      "dateOfLastAddressChange     786363 non-null object\n",
      "echoBuffer                  786363 non-null object\n",
      "enteredCVV                  786363 non-null int64\n",
      "expirationDateKeyInMatch    786363 non-null bool\n",
      "isFraud                     786363 non-null bool\n",
      "merchantCategoryCode        786363 non-null object\n",
      "merchantCity                786363 non-null object\n",
      "merchantCountryCode         786363 non-null object\n",
      "merchantName                786363 non-null object\n",
      "merchantState               786363 non-null object\n",
      "merchantZip                 786363 non-null object\n",
      "posConditionCode            786363 non-null object\n",
      "posEntryMode                786363 non-null object\n",
      "posOnPremises               786363 non-null object\n",
      "recurringAuthInd            786363 non-null object\n",
      "transactionAmount           786363 non-null float64\n",
      "transactionDateTime         786363 non-null object\n",
      "transactionType             786363 non-null object\n",
      "dtypes: bool(3), float64(3), int64(6), object(17)\n",
      "memory usage: 158.2+ MB\n"
     ]
    }
   ],
   "source": [
    "#Inspect the dataframe\n",
    "df.info()"
   ]
  },
  {
   "cell_type": "markdown",
   "metadata": {},
   "source": [
    "- We have 29 fields and 786,363 records\n",
    "\n",
    "\n",
    "- We can see that some of the date variables are objects; hence, they need to be formatted to date variables"
   ]
  },
  {
   "cell_type": "code",
   "execution_count": 7,
   "metadata": {},
   "outputs": [],
   "source": [
    "#Formatting date variables into Pandas datetime format and replacing missing values to nan\n",
    "\n",
    "df['accountOpenDate'] = pd.to_datetime(df['accountOpenDate'])\n",
    "df['currentExpDate'] = pd.to_datetime(df['currentExpDate'])\n",
    "df['dateOfLastAddressChange'] = pd.to_datetime(df['dateOfLastAddressChange'])\n",
    "df['transactionDateTime'] = pd.to_datetime(df['transactionDateTime'])\n",
    "\n",
    "df = df.replace('', np.nan)\n"
   ]
  },
  {
   "cell_type": "code",
   "execution_count": 8,
   "metadata": {},
   "outputs": [
    {
     "data": {
      "text/plain": [
       "count                  786363\n",
       "unique                 776637\n",
       "top       2016-05-28 14:24:41\n",
       "freq                        4\n",
       "first     2016-01-01 00:01:02\n",
       "last      2016-12-30 23:59:45\n",
       "Name: transactionDateTime, dtype: object"
      ]
     },
     "execution_count": 8,
     "metadata": {},
     "output_type": "execute_result"
    }
   ],
   "source": [
    "#TimeSpan of transaction data \n",
    "df['transactionDateTime'].describe(include='All')"
   ]
  },
  {
   "cell_type": "code",
   "execution_count": 9,
   "metadata": {},
   "outputs": [
    {
     "data": {
      "text/html": [
       "<div>\n",
       "<style scoped>\n",
       "    .dataframe tbody tr th:only-of-type {\n",
       "        vertical-align: middle;\n",
       "    }\n",
       "\n",
       "    .dataframe tbody tr th {\n",
       "        vertical-align: top;\n",
       "    }\n",
       "\n",
       "    .dataframe thead th {\n",
       "        text-align: right;\n",
       "    }\n",
       "</style>\n",
       "<table border=\"1\" class=\"dataframe\">\n",
       "  <thead>\n",
       "    <tr style=\"text-align: right;\">\n",
       "      <th></th>\n",
       "      <th>accountNumber</th>\n",
       "      <th>accountOpenDate</th>\n",
       "      <th>acqCountry</th>\n",
       "      <th>availableMoney</th>\n",
       "      <th>cardCVV</th>\n",
       "      <th>cardLast4Digits</th>\n",
       "      <th>cardPresent</th>\n",
       "      <th>creditLimit</th>\n",
       "      <th>currentBalance</th>\n",
       "      <th>currentExpDate</th>\n",
       "      <th>...</th>\n",
       "      <th>merchantName</th>\n",
       "      <th>merchantState</th>\n",
       "      <th>merchantZip</th>\n",
       "      <th>posConditionCode</th>\n",
       "      <th>posEntryMode</th>\n",
       "      <th>posOnPremises</th>\n",
       "      <th>recurringAuthInd</th>\n",
       "      <th>transactionAmount</th>\n",
       "      <th>transactionDateTime</th>\n",
       "      <th>transactionType</th>\n",
       "    </tr>\n",
       "  </thead>\n",
       "  <tbody>\n",
       "    <tr>\n",
       "      <th>0</th>\n",
       "      <td>737265056</td>\n",
       "      <td>2015-03-14</td>\n",
       "      <td>US</td>\n",
       "      <td>5000.0</td>\n",
       "      <td>414</td>\n",
       "      <td>1803</td>\n",
       "      <td>False</td>\n",
       "      <td>5000</td>\n",
       "      <td>0.0</td>\n",
       "      <td>2023-06-01</td>\n",
       "      <td>...</td>\n",
       "      <td>Uber</td>\n",
       "      <td>NaN</td>\n",
       "      <td>NaN</td>\n",
       "      <td>01</td>\n",
       "      <td>02</td>\n",
       "      <td>NaN</td>\n",
       "      <td>NaN</td>\n",
       "      <td>98.55</td>\n",
       "      <td>2016-08-13 14:27:32</td>\n",
       "      <td>PURCHASE</td>\n",
       "    </tr>\n",
       "    <tr>\n",
       "      <th>1</th>\n",
       "      <td>737265056</td>\n",
       "      <td>2015-03-14</td>\n",
       "      <td>US</td>\n",
       "      <td>5000.0</td>\n",
       "      <td>486</td>\n",
       "      <td>767</td>\n",
       "      <td>True</td>\n",
       "      <td>5000</td>\n",
       "      <td>0.0</td>\n",
       "      <td>2024-02-01</td>\n",
       "      <td>...</td>\n",
       "      <td>AMC #191138</td>\n",
       "      <td>NaN</td>\n",
       "      <td>NaN</td>\n",
       "      <td>01</td>\n",
       "      <td>09</td>\n",
       "      <td>NaN</td>\n",
       "      <td>NaN</td>\n",
       "      <td>74.51</td>\n",
       "      <td>2016-10-11 05:05:54</td>\n",
       "      <td>PURCHASE</td>\n",
       "    </tr>\n",
       "    <tr>\n",
       "      <th>2</th>\n",
       "      <td>737265056</td>\n",
       "      <td>2015-03-14</td>\n",
       "      <td>US</td>\n",
       "      <td>5000.0</td>\n",
       "      <td>486</td>\n",
       "      <td>767</td>\n",
       "      <td>False</td>\n",
       "      <td>5000</td>\n",
       "      <td>0.0</td>\n",
       "      <td>2025-08-01</td>\n",
       "      <td>...</td>\n",
       "      <td>Play Store</td>\n",
       "      <td>NaN</td>\n",
       "      <td>NaN</td>\n",
       "      <td>01</td>\n",
       "      <td>09</td>\n",
       "      <td>NaN</td>\n",
       "      <td>NaN</td>\n",
       "      <td>7.47</td>\n",
       "      <td>2016-11-08 09:18:39</td>\n",
       "      <td>PURCHASE</td>\n",
       "    </tr>\n",
       "    <tr>\n",
       "      <th>3</th>\n",
       "      <td>737265056</td>\n",
       "      <td>2015-03-14</td>\n",
       "      <td>US</td>\n",
       "      <td>5000.0</td>\n",
       "      <td>486</td>\n",
       "      <td>767</td>\n",
       "      <td>False</td>\n",
       "      <td>5000</td>\n",
       "      <td>0.0</td>\n",
       "      <td>2025-08-01</td>\n",
       "      <td>...</td>\n",
       "      <td>Play Store</td>\n",
       "      <td>NaN</td>\n",
       "      <td>NaN</td>\n",
       "      <td>01</td>\n",
       "      <td>09</td>\n",
       "      <td>NaN</td>\n",
       "      <td>NaN</td>\n",
       "      <td>7.47</td>\n",
       "      <td>2016-12-10 02:14:50</td>\n",
       "      <td>PURCHASE</td>\n",
       "    </tr>\n",
       "    <tr>\n",
       "      <th>4</th>\n",
       "      <td>830329091</td>\n",
       "      <td>2015-08-06</td>\n",
       "      <td>US</td>\n",
       "      <td>5000.0</td>\n",
       "      <td>885</td>\n",
       "      <td>3143</td>\n",
       "      <td>True</td>\n",
       "      <td>5000</td>\n",
       "      <td>0.0</td>\n",
       "      <td>2029-10-01</td>\n",
       "      <td>...</td>\n",
       "      <td>Tim Hortons #947751</td>\n",
       "      <td>NaN</td>\n",
       "      <td>NaN</td>\n",
       "      <td>01</td>\n",
       "      <td>02</td>\n",
       "      <td>NaN</td>\n",
       "      <td>NaN</td>\n",
       "      <td>71.18</td>\n",
       "      <td>2016-03-24 21:04:46</td>\n",
       "      <td>PURCHASE</td>\n",
       "    </tr>\n",
       "  </tbody>\n",
       "</table>\n",
       "<p>5 rows × 29 columns</p>\n",
       "</div>"
      ],
      "text/plain": [
       "   accountNumber accountOpenDate acqCountry  availableMoney  cardCVV  \\\n",
       "0      737265056      2015-03-14         US          5000.0      414   \n",
       "1      737265056      2015-03-14         US          5000.0      486   \n",
       "2      737265056      2015-03-14         US          5000.0      486   \n",
       "3      737265056      2015-03-14         US          5000.0      486   \n",
       "4      830329091      2015-08-06         US          5000.0      885   \n",
       "\n",
       "   cardLast4Digits  cardPresent  creditLimit  currentBalance currentExpDate  \\\n",
       "0             1803        False         5000             0.0     2023-06-01   \n",
       "1              767         True         5000             0.0     2024-02-01   \n",
       "2              767        False         5000             0.0     2025-08-01   \n",
       "3              767        False         5000             0.0     2025-08-01   \n",
       "4             3143         True         5000             0.0     2029-10-01   \n",
       "\n",
       "   ...         merchantName merchantState  merchantZip  posConditionCode  \\\n",
       "0  ...                 Uber           NaN          NaN                01   \n",
       "1  ...          AMC #191138           NaN          NaN                01   \n",
       "2  ...           Play Store           NaN          NaN                01   \n",
       "3  ...           Play Store           NaN          NaN                01   \n",
       "4  ...  Tim Hortons #947751           NaN          NaN                01   \n",
       "\n",
       "   posEntryMode  posOnPremises recurringAuthInd  transactionAmount  \\\n",
       "0            02            NaN              NaN              98.55   \n",
       "1            09            NaN              NaN              74.51   \n",
       "2            09            NaN              NaN               7.47   \n",
       "3            09            NaN              NaN               7.47   \n",
       "4            02            NaN              NaN              71.18   \n",
       "\n",
       "  transactionDateTime transactionType  \n",
       "0 2016-08-13 14:27:32        PURCHASE  \n",
       "1 2016-10-11 05:05:54        PURCHASE  \n",
       "2 2016-11-08 09:18:39        PURCHASE  \n",
       "3 2016-12-10 02:14:50        PURCHASE  \n",
       "4 2016-03-24 21:04:46        PURCHASE  \n",
       "\n",
       "[5 rows x 29 columns]"
      ]
     },
     "execution_count": 9,
     "metadata": {},
     "output_type": "execute_result"
    }
   ],
   "source": [
    "#View the head of the dataset\n",
    "\n",
    "df.head()"
   ]
  },
  {
   "cell_type": "code",
   "execution_count": 10,
   "metadata": {},
   "outputs": [
    {
     "data": {
      "text/plain": [
       "(5000,)"
      ]
     },
     "execution_count": 10,
     "metadata": {},
     "output_type": "execute_result"
    }
   ],
   "source": [
    "#Number of unique accounts\n",
    "df['accountNumber'].unique().shape"
   ]
  },
  {
   "cell_type": "code",
   "execution_count": 11,
   "metadata": {},
   "outputs": [
    {
     "data": {
      "text/html": [
       "<div>\n",
       "<style scoped>\n",
       "    .dataframe tbody tr th:only-of-type {\n",
       "        vertical-align: middle;\n",
       "    }\n",
       "\n",
       "    .dataframe tbody tr th {\n",
       "        vertical-align: top;\n",
       "    }\n",
       "\n",
       "    .dataframe thead th {\n",
       "        text-align: right;\n",
       "    }\n",
       "</style>\n",
       "<table border=\"1\" class=\"dataframe\">\n",
       "  <thead>\n",
       "    <tr style=\"text-align: right;\">\n",
       "      <th></th>\n",
       "      <th>accountNumber</th>\n",
       "      <th>availableMoney</th>\n",
       "      <th>cardCVV</th>\n",
       "      <th>cardLast4Digits</th>\n",
       "      <th>creditLimit</th>\n",
       "      <th>currentBalance</th>\n",
       "      <th>customerId</th>\n",
       "      <th>echoBuffer</th>\n",
       "      <th>enteredCVV</th>\n",
       "      <th>merchantCity</th>\n",
       "      <th>merchantState</th>\n",
       "      <th>merchantZip</th>\n",
       "      <th>posOnPremises</th>\n",
       "      <th>recurringAuthInd</th>\n",
       "      <th>transactionAmount</th>\n",
       "    </tr>\n",
       "  </thead>\n",
       "  <tbody>\n",
       "    <tr>\n",
       "      <th>count</th>\n",
       "      <td>7.863630e+05</td>\n",
       "      <td>786363.000000</td>\n",
       "      <td>786363.000000</td>\n",
       "      <td>786363.000000</td>\n",
       "      <td>786363.000000</td>\n",
       "      <td>786363.000000</td>\n",
       "      <td>7.863630e+05</td>\n",
       "      <td>0.0</td>\n",
       "      <td>786363.000000</td>\n",
       "      <td>0.0</td>\n",
       "      <td>0.0</td>\n",
       "      <td>0.0</td>\n",
       "      <td>0.0</td>\n",
       "      <td>0.0</td>\n",
       "      <td>786363.000000</td>\n",
       "    </tr>\n",
       "    <tr>\n",
       "      <th>mean</th>\n",
       "      <td>5.372326e+08</td>\n",
       "      <td>6250.725369</td>\n",
       "      <td>544.467338</td>\n",
       "      <td>4757.417799</td>\n",
       "      <td>10759.464459</td>\n",
       "      <td>4508.739089</td>\n",
       "      <td>5.372326e+08</td>\n",
       "      <td>NaN</td>\n",
       "      <td>544.183857</td>\n",
       "      <td>NaN</td>\n",
       "      <td>NaN</td>\n",
       "      <td>NaN</td>\n",
       "      <td>NaN</td>\n",
       "      <td>NaN</td>\n",
       "      <td>136.985791</td>\n",
       "    </tr>\n",
       "    <tr>\n",
       "      <th>std</th>\n",
       "      <td>2.554211e+08</td>\n",
       "      <td>8880.783989</td>\n",
       "      <td>261.524220</td>\n",
       "      <td>2996.583810</td>\n",
       "      <td>11636.174890</td>\n",
       "      <td>6457.442068</td>\n",
       "      <td>2.554211e+08</td>\n",
       "      <td>NaN</td>\n",
       "      <td>261.551254</td>\n",
       "      <td>NaN</td>\n",
       "      <td>NaN</td>\n",
       "      <td>NaN</td>\n",
       "      <td>NaN</td>\n",
       "      <td>NaN</td>\n",
       "      <td>147.725569</td>\n",
       "    </tr>\n",
       "    <tr>\n",
       "      <th>min</th>\n",
       "      <td>1.000881e+08</td>\n",
       "      <td>-1005.630000</td>\n",
       "      <td>100.000000</td>\n",
       "      <td>0.000000</td>\n",
       "      <td>250.000000</td>\n",
       "      <td>0.000000</td>\n",
       "      <td>1.000881e+08</td>\n",
       "      <td>NaN</td>\n",
       "      <td>0.000000</td>\n",
       "      <td>NaN</td>\n",
       "      <td>NaN</td>\n",
       "      <td>NaN</td>\n",
       "      <td>NaN</td>\n",
       "      <td>NaN</td>\n",
       "      <td>0.000000</td>\n",
       "    </tr>\n",
       "    <tr>\n",
       "      <th>25%</th>\n",
       "      <td>3.301333e+08</td>\n",
       "      <td>1077.420000</td>\n",
       "      <td>310.000000</td>\n",
       "      <td>2178.000000</td>\n",
       "      <td>5000.000000</td>\n",
       "      <td>689.910000</td>\n",
       "      <td>3.301333e+08</td>\n",
       "      <td>NaN</td>\n",
       "      <td>310.000000</td>\n",
       "      <td>NaN</td>\n",
       "      <td>NaN</td>\n",
       "      <td>NaN</td>\n",
       "      <td>NaN</td>\n",
       "      <td>NaN</td>\n",
       "      <td>33.650000</td>\n",
       "    </tr>\n",
       "    <tr>\n",
       "      <th>50%</th>\n",
       "      <td>5.074561e+08</td>\n",
       "      <td>3184.860000</td>\n",
       "      <td>535.000000</td>\n",
       "      <td>4733.000000</td>\n",
       "      <td>7500.000000</td>\n",
       "      <td>2451.760000</td>\n",
       "      <td>5.074561e+08</td>\n",
       "      <td>NaN</td>\n",
       "      <td>535.000000</td>\n",
       "      <td>NaN</td>\n",
       "      <td>NaN</td>\n",
       "      <td>NaN</td>\n",
       "      <td>NaN</td>\n",
       "      <td>NaN</td>\n",
       "      <td>87.900000</td>\n",
       "    </tr>\n",
       "    <tr>\n",
       "      <th>75%</th>\n",
       "      <td>7.676200e+08</td>\n",
       "      <td>7500.000000</td>\n",
       "      <td>785.000000</td>\n",
       "      <td>7338.000000</td>\n",
       "      <td>15000.000000</td>\n",
       "      <td>5291.095000</td>\n",
       "      <td>7.676200e+08</td>\n",
       "      <td>NaN</td>\n",
       "      <td>785.000000</td>\n",
       "      <td>NaN</td>\n",
       "      <td>NaN</td>\n",
       "      <td>NaN</td>\n",
       "      <td>NaN</td>\n",
       "      <td>NaN</td>\n",
       "      <td>191.480000</td>\n",
       "    </tr>\n",
       "    <tr>\n",
       "      <th>max</th>\n",
       "      <td>9.993896e+08</td>\n",
       "      <td>50000.000000</td>\n",
       "      <td>998.000000</td>\n",
       "      <td>9998.000000</td>\n",
       "      <td>50000.000000</td>\n",
       "      <td>47498.810000</td>\n",
       "      <td>9.993896e+08</td>\n",
       "      <td>NaN</td>\n",
       "      <td>998.000000</td>\n",
       "      <td>NaN</td>\n",
       "      <td>NaN</td>\n",
       "      <td>NaN</td>\n",
       "      <td>NaN</td>\n",
       "      <td>NaN</td>\n",
       "      <td>2011.540000</td>\n",
       "    </tr>\n",
       "  </tbody>\n",
       "</table>\n",
       "</div>"
      ],
      "text/plain": [
       "       accountNumber  availableMoney        cardCVV  cardLast4Digits  \\\n",
       "count   7.863630e+05   786363.000000  786363.000000    786363.000000   \n",
       "mean    5.372326e+08     6250.725369     544.467338      4757.417799   \n",
       "std     2.554211e+08     8880.783989     261.524220      2996.583810   \n",
       "min     1.000881e+08    -1005.630000     100.000000         0.000000   \n",
       "25%     3.301333e+08     1077.420000     310.000000      2178.000000   \n",
       "50%     5.074561e+08     3184.860000     535.000000      4733.000000   \n",
       "75%     7.676200e+08     7500.000000     785.000000      7338.000000   \n",
       "max     9.993896e+08    50000.000000     998.000000      9998.000000   \n",
       "\n",
       "         creditLimit  currentBalance    customerId  echoBuffer     enteredCVV  \\\n",
       "count  786363.000000   786363.000000  7.863630e+05         0.0  786363.000000   \n",
       "mean    10759.464459     4508.739089  5.372326e+08         NaN     544.183857   \n",
       "std     11636.174890     6457.442068  2.554211e+08         NaN     261.551254   \n",
       "min       250.000000        0.000000  1.000881e+08         NaN       0.000000   \n",
       "25%      5000.000000      689.910000  3.301333e+08         NaN     310.000000   \n",
       "50%      7500.000000     2451.760000  5.074561e+08         NaN     535.000000   \n",
       "75%     15000.000000     5291.095000  7.676200e+08         NaN     785.000000   \n",
       "max     50000.000000    47498.810000  9.993896e+08         NaN     998.000000   \n",
       "\n",
       "       merchantCity  merchantState  merchantZip  posOnPremises  \\\n",
       "count           0.0            0.0          0.0            0.0   \n",
       "mean            NaN            NaN          NaN            NaN   \n",
       "std             NaN            NaN          NaN            NaN   \n",
       "min             NaN            NaN          NaN            NaN   \n",
       "25%             NaN            NaN          NaN            NaN   \n",
       "50%             NaN            NaN          NaN            NaN   \n",
       "75%             NaN            NaN          NaN            NaN   \n",
       "max             NaN            NaN          NaN            NaN   \n",
       "\n",
       "       recurringAuthInd  transactionAmount  \n",
       "count               0.0      786363.000000  \n",
       "mean                NaN         136.985791  \n",
       "std                 NaN         147.725569  \n",
       "min                 NaN           0.000000  \n",
       "25%                 NaN          33.650000  \n",
       "50%                 NaN          87.900000  \n",
       "75%                 NaN         191.480000  \n",
       "max                 NaN        2011.540000  "
      ]
     },
     "execution_count": 11,
     "metadata": {},
     "output_type": "execute_result"
    }
   ],
   "source": [
    "#Summary statistics\n",
    "df.describe()"
   ]
  },
  {
   "cell_type": "code",
   "execution_count": 12,
   "metadata": {},
   "outputs": [
    {
     "data": {
      "text/plain": [
       "accountNumber                    0\n",
       "accountOpenDate                  0\n",
       "acqCountry                    4562\n",
       "availableMoney                   0\n",
       "cardCVV                          0\n",
       "cardLast4Digits                  0\n",
       "cardPresent                      0\n",
       "creditLimit                      0\n",
       "currentBalance                   0\n",
       "currentExpDate                   0\n",
       "customerId                       0\n",
       "dateOfLastAddressChange          0\n",
       "echoBuffer                  786363\n",
       "enteredCVV                       0\n",
       "expirationDateKeyInMatch         0\n",
       "isFraud                          0\n",
       "merchantCategoryCode             0\n",
       "merchantCity                786363\n",
       "merchantCountryCode            724\n",
       "merchantName                     0\n",
       "merchantState               786363\n",
       "merchantZip                 786363\n",
       "posConditionCode               409\n",
       "posEntryMode                  4054\n",
       "posOnPremises               786363\n",
       "recurringAuthInd            786363\n",
       "transactionAmount                0\n",
       "transactionDateTime              0\n",
       "transactionType                698\n",
       "dtype: int64"
      ]
     },
     "execution_count": 12,
     "metadata": {},
     "output_type": "execute_result"
    }
   ],
   "source": [
    "#Let us look at the count of missing values for each variable\n",
    "\n",
    "df.isna().sum()"
   ]
  },
  {
   "cell_type": "markdown",
   "metadata": {},
   "source": [
    "- The list of variables that appear to have no records in the dataset are: echoBuffer, merchantCity, merchantZip, merchantState, posOnPremises, and recurringAuthInd.\n",
    "\n",
    "\n",
    "- Variables posEntryMode, transactionType, posConditionCode, merchantCountryCode, and acqCountry show missing values; but very small compared to the total record."
   ]
  },
  {
   "cell_type": "code",
   "execution_count": 13,
   "metadata": {},
   "outputs": [],
   "source": [
    "#Let us remove the variables with no-records as they are not used for the subsequent analyses\n",
    "\n",
    "df = df.drop(['echoBuffer', 'merchantCity', 'merchantState', 'merchantZip',  'posOnPremises', 'recurringAuthInd'], axis=1)"
   ]
  },
  {
   "cell_type": "code",
   "execution_count": 14,
   "metadata": {},
   "outputs": [
    {
     "name": "stdout",
     "output_type": "stream",
     "text": [
      "<class 'pandas.core.frame.DataFrame'>\n",
      "RangeIndex: 786363 entries, 0 to 786362\n",
      "Data columns (total 23 columns):\n",
      "accountNumber               786363 non-null int64\n",
      "accountOpenDate             786363 non-null datetime64[ns]\n",
      "acqCountry                  781801 non-null object\n",
      "availableMoney              786363 non-null float64\n",
      "cardCVV                     786363 non-null int64\n",
      "cardLast4Digits             786363 non-null int64\n",
      "cardPresent                 786363 non-null bool\n",
      "creditLimit                 786363 non-null int64\n",
      "currentBalance              786363 non-null float64\n",
      "currentExpDate              786363 non-null datetime64[ns]\n",
      "customerId                  786363 non-null int64\n",
      "dateOfLastAddressChange     786363 non-null datetime64[ns]\n",
      "enteredCVV                  786363 non-null int64\n",
      "expirationDateKeyInMatch    786363 non-null bool\n",
      "isFraud                     786363 non-null bool\n",
      "merchantCategoryCode        786363 non-null object\n",
      "merchantCountryCode         785639 non-null object\n",
      "merchantName                786363 non-null object\n",
      "posConditionCode            785954 non-null object\n",
      "posEntryMode                782309 non-null object\n",
      "transactionAmount           786363 non-null float64\n",
      "transactionDateTime         786363 non-null datetime64[ns]\n",
      "transactionType             785665 non-null object\n",
      "dtypes: bool(3), datetime64[ns](4), float64(3), int64(6), object(7)\n",
      "memory usage: 122.2+ MB\n"
     ]
    }
   ],
   "source": [
    "df.info()"
   ]
  },
  {
   "cell_type": "markdown",
   "metadata": {},
   "source": [
    "# 2. Plot\n",
    "\n",
    "- Plot a histogram of the processed amounts of each transaction, the transactionAmount column.\n",
    "- Report any structure you find and any hypotheses you have about that structure."
   ]
  },
  {
   "cell_type": "code",
   "execution_count": 15,
   "metadata": {},
   "outputs": [
    {
     "data": {
      "image/png": "[encoded data removed]",
      "text/plain": [
       "<Figure size 432x288 with 1 Axes>"
      ]
     },
     "metadata": {
      "needs_background": "light"
     },
     "output_type": "display_data"
    }
   ],
   "source": [
    "#Histogram of transactionAmount\n",
    "plt.hist(df['transactionAmount'], bins=50, histtype='bar', align='mid', orientation='vertical')\n",
    "\n",
    "plt.title('Histogram of TransactionAmount')\n",
    "plt.xlabel('transactionAmount')\n",
    "plt.show()"
   ]
  },
  {
   "cell_type": "code",
   "execution_count": 16,
   "metadata": {},
   "outputs": [
    {
     "data": {
      "text/plain": [
       "count    786363.000000\n",
       "mean        136.985791\n",
       "std         147.725569\n",
       "min           0.000000\n",
       "25%          33.650000\n",
       "50%          87.900000\n",
       "75%         191.480000\n",
       "max        2011.540000\n",
       "Name: transactionAmount, dtype: float64"
      ]
     },
     "execution_count": 16,
     "metadata": {},
     "output_type": "execute_result"
    }
   ],
   "source": [
    "#Summary of transactionAmount\n",
    "df['transactionAmount'].describe()"
   ]
  },
  {
   "cell_type": "markdown",
   "metadata": {},
   "source": [
    "- The histogram shows that most transaction amounts are small. At least 75% of the transactions are less than 200 dollars. The average transaction is 136, with a large standard deviation of 147. One take away from the distribution is that large transaction dollars are rare."
   ]
  },
  {
   "cell_type": "markdown",
   "metadata": {},
   "source": [
    "# 3. Data Wrangling - Duplicate Transactions\n",
    "\n",
    "You will notice a number of what look like duplicated transactions in the data set. One type of duplicated transaction is a reversed transaction, where a purchase is followed by a reversal. Another example is a multi-swipe, where a vendor accidentally charges a customer's card multiple times within a short time span.\n",
    "\n",
    "Can you programmatically identify reversed and multi-swipe transactions?\n",
    "What total number of transactions and total dollar amount do you estimate for the reversed transactions? For the multi-swipe transactions? (please consider the first transaction to be \"normal\" and exclude it from the number of transaction and dollar amount counts)\n",
    "Did you find anything interesting about either kind of transaction?"
   ]
  },
  {
   "cell_type": "code",
   "execution_count": 17,
   "metadata": {},
   "outputs": [],
   "source": [
    "#Let us filter important transaction features to count duplicate transactions. \n",
    "#Inspecting transactionType, we can see that transaction types are ADDRESS_VERIFICATION, PURCHASE, and Reversal\n",
    "df_tran = df[['accountNumber', 'customerId', 'transactionAmount', 'merchantName','transactionType' ]]"
   ]
  },
  {
   "cell_type": "code",
   "execution_count": 18,
   "metadata": {},
   "outputs": [],
   "source": [
    "#Let us create a dataset only for the duplicated transactions\n",
    "dupDF = df_tran[df_tran.duplicated()]"
   ]
  },
  {
   "cell_type": "code",
   "execution_count": 19,
   "metadata": {},
   "outputs": [
    {
     "data": {
      "text/plain": [
       "PURCHASE                50817\n",
       "ADDRESS_VERIFICATION     5946\n",
       "REVERSAL                   33\n",
       "Name: transactionType, dtype: int64"
      ]
     },
     "execution_count": 19,
     "metadata": {},
     "output_type": "execute_result"
    }
   ],
   "source": [
    "#Count transaction types\n",
    "dupDF[\"transactionType\"].value_counts()"
   ]
  },
  {
   "cell_type": "code",
   "execution_count": 20,
   "metadata": {},
   "outputs": [
    {
     "data": {
      "text/plain": [
       "PURCHASE                50817\n",
       "ADDRESS_VERIFICATION     5946\n",
       "REVERSAL                   33\n",
       "Name: transactionType, dtype: int64"
      ]
     },
     "execution_count": 20,
     "metadata": {},
     "output_type": "execute_result"
    }
   ],
   "source": [
    "#Count transaction types\n",
    "dupDF[\"transactionType\"].value_counts()"
   ]
  },
  {
   "cell_type": "code",
   "execution_count": 22,
   "metadata": {},
   "outputs": [],
   "source": [
    "#Pivot Table to calculate number of transactions and transaction amounts\n",
    "\n",
    "pivot = pd.pivot_table(data=dupDF, index=['transactionType'],\n",
    "                      values=['transactionAmount'], aggfunc=[np.sum, len])"
   ]
  },
  {
   "cell_type": "code",
   "execution_count": 23,
   "metadata": {},
   "outputs": [
    {
     "data": {
      "text/html": [
       "<div>\n",
       "<style scoped>\n",
       "    .dataframe tbody tr th:only-of-type {\n",
       "        vertical-align: middle;\n",
       "    }\n",
       "\n",
       "    .dataframe tbody tr th {\n",
       "        vertical-align: top;\n",
       "    }\n",
       "\n",
       "    .dataframe thead tr th {\n",
       "        text-align: left;\n",
       "    }\n",
       "\n",
       "    .dataframe thead tr:last-of-type th {\n",
       "        text-align: right;\n",
       "    }\n",
       "</style>\n",
       "<table border=\"1\" class=\"dataframe\">\n",
       "  <thead>\n",
       "    <tr>\n",
       "      <th></th>\n",
       "      <th>sum</th>\n",
       "      <th>len</th>\n",
       "    </tr>\n",
       "    <tr>\n",
       "      <th></th>\n",
       "      <th>transactionAmount</th>\n",
       "      <th>transactionAmount</th>\n",
       "    </tr>\n",
       "    <tr>\n",
       "      <th>transactionType</th>\n",
       "      <th></th>\n",
       "      <th></th>\n",
       "    </tr>\n",
       "  </thead>\n",
       "  <tbody>\n",
       "    <tr>\n",
       "      <th>ADDRESS_VERIFICATION</th>\n",
       "      <td>0.00</td>\n",
       "      <td>5946.0</td>\n",
       "    </tr>\n",
       "    <tr>\n",
       "      <th>PURCHASE</th>\n",
       "      <td>2361375.49</td>\n",
       "      <td>50817.0</td>\n",
       "    </tr>\n",
       "    <tr>\n",
       "      <th>REVERSAL</th>\n",
       "      <td>310.95</td>\n",
       "      <td>33.0</td>\n",
       "    </tr>\n",
       "  </tbody>\n",
       "</table>\n",
       "</div>"
      ],
      "text/plain": [
       "                                   sum               len\n",
       "                     transactionAmount transactionAmount\n",
       "transactionType                                         \n",
       "ADDRESS_VERIFICATION              0.00            5946.0\n",
       "PURCHASE                    2361375.49           50817.0\n",
       "REVERSAL                        310.95              33.0"
      ]
     },
     "execution_count": 23,
     "metadata": {},
     "output_type": "execute_result"
    }
   ],
   "source": [
    "pivot.query('transactionType == [\"ADDRESS_VERIFICATION\", \"PURCHASE\", \"REVERSAL\",\"\" ]')"
   ]
  },
  {
   "cell_type": "markdown",
   "metadata": {},
   "source": [
    "- We can see that the number of reversal transactions are 33, and the total reversal dollar amount is 310.95\n",
    "\n",
    "- If duplicates are not reversal, the remaining duplicates are multi-swipe transactions. Hence the number of multi-swipe transactions is (50,817 + 5946) = 56,763. The total multi-swipe transactions dollar amount is 2,361,375.49.\n"
   ]
  },
  {
   "cell_type": "markdown",
   "metadata": {},
   "source": [
    "# 4. Model\n",
    "\n",
    "Fraud is a problem for any bank. Fraud can take many forms, whether it is someone stealing a single credit card, to large batches of stolen credit card numbers being used on the web, or even a mass compromise of credit card numbers stolen from a merchant via tools like credit card skimming devices.\n",
    "\n",
    "Each of the transactions in the dataset has a field called isFraud. Please build a predictive model to determine whether a given transaction will be fraudulent or not. Use as much of the data as you like (or all of it).\n",
    "Provide an estimate of performance using an appropriate sample, and show your work.\n",
    "Please explain your methodology (modeling algorithm/method used and why, what features/data you found useful, what questions you have, and what you would do next with more time)"
   ]
  },
  {
   "cell_type": "markdown",
   "metadata": {},
   "source": [
    "-\tThe main objective is to identify transactions that are more likely to be fraudulent. This could be learned using statistical algorithms using some of the data provided in account behavior. The model can be used to identify whether transactions are fraudulent or not based on the statistical model developed on observed behavior."
   ]
  },
  {
   "cell_type": "markdown",
   "metadata": {},
   "source": [
    "## 4.1 Data Exploration to Build a Predictive Model"
   ]
  },
  {
   "cell_type": "code",
   "execution_count": 25,
   "metadata": {},
   "outputs": [],
   "source": [
    "#We can see that 'isFraud' is a Boolean, and needs to be converted to binary integer for quantification purposes: \n",
    "#1 for a transaction that is fraud and 0 for not-fraud\n",
    "\n",
    "\n",
    "df.isFraud[df.isFraud == 'false'] = 0\n",
    "df.isFraud[df.isFraud == 'true'] = 1\n",
    "\n",
    "df['isFraud']=df['isFraud'].astype(float)"
   ]
  },
  {
   "cell_type": "code",
   "execution_count": 26,
   "metadata": {},
   "outputs": [
    {
     "data": {
      "text/plain": [
       "0.0    773946\n",
       "1.0     12417\n",
       "Name: isFraud, dtype: int64"
      ]
     },
     "execution_count": 26,
     "metadata": {},
     "output_type": "execute_result"
    }
   ],
   "source": [
    "#We can see how many fraud cases are out of the total transactions\n",
    "\n",
    "df['isFraud'].value_counts()"
   ]
  },
  {
   "cell_type": "code",
   "execution_count": 27,
   "metadata": {},
   "outputs": [
    {
     "data": {
      "image/png": "[encoded data removed]",
      "text/plain": [
       "<Figure size 432x288 with 1 Axes>"
      ]
     },
     "metadata": {
      "needs_background": "light"
     },
     "output_type": "display_data"
    },
    {
     "data": {
      "text/plain": [
       "<Figure size 432x288 with 0 Axes>"
      ]
     },
     "metadata": {},
     "output_type": "display_data"
    }
   ],
   "source": [
    "sns.countplot(x='isFraud', data=df, palette='hls')\n",
    "plt.show()\n",
    "plt.savefig('count_plot')"
   ]
  },
  {
   "cell_type": "code",
   "execution_count": 28,
   "metadata": {},
   "outputs": [
    {
     "name": "stdout",
     "output_type": "stream",
     "text": [
      "Percentage of no-fraud 98.420958259735\n",
      "Percentage of fraud 1.579041740264992\n"
     ]
    }
   ],
   "source": [
    "#Let us see the percentage of fraud transactions\n",
    "count_no_fraud = len(df[df['isFraud']==0])\n",
    "count_fraud = len(df[df['isFraud']==1])\n",
    "pct_no_fraud = count_no_fraud/df['isFraud'].count()\n",
    "print(\"Percentage of no-fraud\", pct_no_fraud*100)\n",
    "pct_fraud = count_fraud/df['isFraud'].count()\n",
    "print(\"Percentage of fraud\", pct_fraud*100)"
   ]
  },
  {
   "cell_type": "markdown",
   "metadata": {},
   "source": [
    "- We can see that only 1.57% of the transactions are fraud. This lends some evidence on how the data imbalance is for fraud cases in training the model."
   ]
  },
  {
   "cell_type": "code",
   "execution_count": 29,
   "metadata": {},
   "outputs": [],
   "source": [
    "#Given the null values are small for variables with non-missing values, we can drop null values from the dataset without applying any imputations.\n",
    "#Let us also drop ID types of variables that will not be useful as predictors\n",
    "df = df.drop(['accountNumber', 'acqCountry', 'customerId', 'merchantName', 'cardLast4Digits','accountOpenDate',\n",
    "              'currentExpDate','dateOfLastAddressChange', 'transactionDateTime'], axis=1).dropna()\n"
   ]
  },
  {
   "cell_type": "code",
   "execution_count": 30,
   "metadata": {},
   "outputs": [
    {
     "name": "stdout",
     "output_type": "stream",
     "text": [
      "<class 'pandas.core.frame.DataFrame'>\n",
      "Int64Index: 780489 entries, 0 to 786362\n",
      "Data columns (total 14 columns):\n",
      "availableMoney              780489 non-null float64\n",
      "cardCVV                     780489 non-null int64\n",
      "cardPresent                 780489 non-null bool\n",
      "creditLimit                 780489 non-null int64\n",
      "currentBalance              780489 non-null float64\n",
      "enteredCVV                  780489 non-null int64\n",
      "expirationDateKeyInMatch    780489 non-null bool\n",
      "isFraud                     780489 non-null float64\n",
      "merchantCategoryCode        780489 non-null object\n",
      "merchantCountryCode         780489 non-null object\n",
      "posConditionCode            780489 non-null object\n",
      "posEntryMode                780489 non-null object\n",
      "transactionAmount           780489 non-null float64\n",
      "transactionType             780489 non-null object\n",
      "dtypes: bool(2), float64(4), int64(3), object(5)\n",
      "memory usage: 78.9+ MB\n"
     ]
    }
   ],
   "source": [
    "#View the updated list of variables\n",
    "df.info()"
   ]
  },
  {
   "cell_type": "code",
   "execution_count": 31,
   "metadata": {},
   "outputs": [
    {
     "data": {
      "text/html": [
       "<div>\n",
       "<style scoped>\n",
       "    .dataframe tbody tr th:only-of-type {\n",
       "        vertical-align: middle;\n",
       "    }\n",
       "\n",
       "    .dataframe tbody tr th {\n",
       "        vertical-align: top;\n",
       "    }\n",
       "\n",
       "    .dataframe thead th {\n",
       "        text-align: right;\n",
       "    }\n",
       "</style>\n",
       "<table border=\"1\" class=\"dataframe\">\n",
       "  <thead>\n",
       "    <tr style=\"text-align: right;\">\n",
       "      <th></th>\n",
       "      <th>availableMoney</th>\n",
       "      <th>cardCVV</th>\n",
       "      <th>cardPresent</th>\n",
       "      <th>creditLimit</th>\n",
       "      <th>currentBalance</th>\n",
       "      <th>enteredCVV</th>\n",
       "      <th>expirationDateKeyInMatch</th>\n",
       "      <th>transactionAmount</th>\n",
       "    </tr>\n",
       "    <tr>\n",
       "      <th>isFraud</th>\n",
       "      <th></th>\n",
       "      <th></th>\n",
       "      <th></th>\n",
       "      <th></th>\n",
       "      <th></th>\n",
       "      <th></th>\n",
       "      <th></th>\n",
       "      <th></th>\n",
       "    </tr>\n",
       "  </thead>\n",
       "  <tbody>\n",
       "    <tr>\n",
       "      <th>0.0</th>\n",
       "      <td>6249.815168</td>\n",
       "      <td>544.211975</td>\n",
       "      <td>0.451380</td>\n",
       "      <td>10752.144232</td>\n",
       "      <td>4502.329064</td>\n",
       "      <td>543.924014</td>\n",
       "      <td>0.00133</td>\n",
       "      <td>135.601112</td>\n",
       "    </tr>\n",
       "    <tr>\n",
       "      <th>1.0</th>\n",
       "      <td>6147.537000</td>\n",
       "      <td>562.415642</td>\n",
       "      <td>0.279505</td>\n",
       "      <td>11070.416390</td>\n",
       "      <td>4922.879390</td>\n",
       "      <td>562.063996</td>\n",
       "      <td>0.00108</td>\n",
       "      <td>225.036713</td>\n",
       "    </tr>\n",
       "  </tbody>\n",
       "</table>\n",
       "</div>"
      ],
      "text/plain": [
       "         availableMoney     cardCVV  cardPresent   creditLimit  \\\n",
       "isFraud                                                          \n",
       "0.0         6249.815168  544.211975     0.451380  10752.144232   \n",
       "1.0         6147.537000  562.415642     0.279505  11070.416390   \n",
       "\n",
       "         currentBalance  enteredCVV  expirationDateKeyInMatch  \\\n",
       "isFraud                                                         \n",
       "0.0         4502.329064  543.924014                   0.00133   \n",
       "1.0         4922.879390  562.063996                   0.00108   \n",
       "\n",
       "         transactionAmount  \n",
       "isFraud                     \n",
       "0.0             135.601112  \n",
       "1.0             225.036713  "
      ]
     },
     "execution_count": 31,
     "metadata": {},
     "output_type": "execute_result"
    }
   ],
   "source": [
    "#Let us observe how the mean of the predictor variables is distributed along the fraud/no-fraud class.\n",
    "df.groupby('isFraud').mean()"
   ]
  },
  {
   "cell_type": "markdown",
   "metadata": {},
   "source": [
    "- The average transaction amount appears to be significantly larger for the fraud case (225) compared to the no-fraud case (135). \n",
    "\n",
    "- CardPresent appears to be larger for no-fraud (.45) compared to fraud (.27). \n"
   ]
  },
  {
   "cell_type": "markdown",
   "metadata": {},
   "source": [
    "## 4.2 Create Dummy Variables of the Predictors\n",
    "\n",
    "- Some of the account behavior variables are categorical in nature. For the purpose of statistical learning, we transformed them into variable categories (binary value - 0/1) where the observance of the specific category is 1."
   ]
  },
  {
   "cell_type": "code",
   "execution_count": 33,
   "metadata": {},
   "outputs": [],
   "source": [
    "#For ease of handling variable names with their categories, let us shorten the lengthy variable names\n",
    "\n",
    "df = df.rename({'expirationDateKeyInMatch': 'exrDtKeyMatch','merchantCategoryCode':'merchCategory', 'merchantCountryCode':'merchCountry', \n",
    "                'transactionAmount':'transAmount', 'posConditionCode': 'posCondition', 'transactionType': 'transType'}, axis=1)"
   ]
  },
  {
   "cell_type": "code",
   "execution_count": 34,
   "metadata": {},
   "outputs": [],
   "source": [
    "#Create dummies for the categorical variables\n",
    "cat_vars=['cardPresent','exrDtKeyMatch','merchCategory', 'merchCountry', 'posCondition', 'posEntryMode', \n",
    "          'transType']\n",
    "\n",
    "\n",
    "for var in cat_vars:\n",
    "    cat_list='var'+'_'+var\n",
    "    cat_list = pd.get_dummies(df[var], prefix=var)\n",
    "    df1=df.join(cat_list)\n",
    "    df=df1\n",
    "    \n",
    "cat_vars=['cardPresent','exrDtKeyMatch','merchCategory', 'merchCountry', 'posCondition', 'posEntryMode', \n",
    "          'transType']\n",
    "data_vars=df.columns.values.tolist()\n",
    "to_keep=[i for i in data_vars if i not in cat_vars]"
   ]
  },
  {
   "cell_type": "code",
   "execution_count": 35,
   "metadata": {},
   "outputs": [
    {
     "data": {
      "text/plain": [
       "array(['availableMoney', 'cardCVV', 'creditLimit', 'currentBalance',\n",
       "       'enteredCVV', 'isFraud', 'transAmount', 'cardPresent_False',\n",
       "       'cardPresent_True', 'exrDtKeyMatch_False', 'exrDtKeyMatch_True',\n",
       "       'merchCategory_airline', 'merchCategory_auto',\n",
       "       'merchCategory_cable/phone', 'merchCategory_entertainment',\n",
       "       'merchCategory_fastfood', 'merchCategory_food',\n",
       "       'merchCategory_food_delivery', 'merchCategory_fuel',\n",
       "       'merchCategory_furniture', 'merchCategory_gym',\n",
       "       'merchCategory_health', 'merchCategory_hotels',\n",
       "       'merchCategory_mobileapps', 'merchCategory_online_gifts',\n",
       "       'merchCategory_online_retail',\n",
       "       'merchCategory_online_subscriptions',\n",
       "       'merchCategory_personal care', 'merchCategory_rideshare',\n",
       "       'merchCategory_subscriptions', 'merchCountry_CAN',\n",
       "       'merchCountry_MEX', 'merchCountry_PR', 'merchCountry_US',\n",
       "       'posCondition_01', 'posCondition_08', 'posCondition_99',\n",
       "       'posEntryMode_02', 'posEntryMode_05', 'posEntryMode_09',\n",
       "       'posEntryMode_80', 'posEntryMode_90',\n",
       "       'transType_ADDRESS_VERIFICATION', 'transType_PURCHASE',\n",
       "       'transType_REVERSAL'], dtype=object)"
      ]
     },
     "execution_count": 35,
     "metadata": {},
     "output_type": "execute_result"
    }
   ],
   "source": [
    "\n",
    "df_final=df[to_keep]\n",
    "df_final.columns.values"
   ]
  },
  {
   "cell_type": "code",
   "execution_count": 36,
   "metadata": {},
   "outputs": [],
   "source": [
    "#format the variables's binary values for ease of oversampling\n",
    "df_final = df_final.astype(float)"
   ]
  },
  {
   "cell_type": "markdown",
   "metadata": {},
   "source": [
    "## 4.3 Create (update) the data for Modeling using Sampling Technique\n",
    "\n",
    "- We can see that the fraud cases are only 1.57%, and it statistically reasonable to oversample the population for a better statistical learning of classification algorithm.\n",
    "\n",
    "- Studies have shown that over-sampling the minority class and under-sampling the majority (normal) class can achieve better classifier performance. In this case, we will try over-sampling the minority class using a method called Synthetic Minority Over-sampling Technique (SMOTE)\n",
    "\n",
    "- Our goal is to have equal number of fraud/no-fraud observation using a synthetic oversampling\n",
    "\n",
    "- Once we have an oversampled dataset, we will create traning and test samples for model fitting and performance testing purposes. We used 70/30% proporation for traning and testing given we have a descent amout of data records (about a million records after oversampling). "
   ]
  },
  {
   "cell_type": "code",
   "execution_count": 37,
   "metadata": {},
   "outputs": [],
   "source": [
    "#Import the module for SMOTE\n",
    "from imblearn.over_sampling import SMOTE\n",
    "from imblearn.over_sampling import RandomOverSampler"
   ]
  },
  {
   "cell_type": "code",
   "execution_count": 38,
   "metadata": {},
   "outputs": [],
   "source": [
    "#Let us create separate datasets for the dependent (y) and independent variables\n",
    "X = df_final.loc[:,df_final.columns != 'isFraud']\n",
    "y = df_final.loc[:,df_final.columns == 'isFraud']\n"
   ]
  },
  {
   "cell_type": "code",
   "execution_count": 39,
   "metadata": {},
   "outputs": [],
   "source": [
    "#We created training and test datasets based on 70/30 % proportion\n",
    "os = SMOTE(random_state=0)\n",
    "X_train, X_test,y_train, y_test = train_test_split(X,y, test_size=0.3, random_state=0)\n",
    "columns = X_train.columns "
   ]
  },
  {
   "cell_type": "code",
   "execution_count": 40,
   "metadata": {},
   "outputs": [
    {
     "data": {
      "text/plain": [
       "Index(['availableMoney', 'cardCVV', 'creditLimit', 'currentBalance',\n",
       "       'enteredCVV', 'transAmount', 'cardPresent_False', 'cardPresent_True',\n",
       "       'exrDtKeyMatch_False', 'exrDtKeyMatch_True', 'merchCategory_airline',\n",
       "       'merchCategory_auto', 'merchCategory_cable/phone',\n",
       "       'merchCategory_entertainment', 'merchCategory_fastfood',\n",
       "       'merchCategory_food', 'merchCategory_food_delivery',\n",
       "       'merchCategory_fuel', 'merchCategory_furniture', 'merchCategory_gym',\n",
       "       'merchCategory_health', 'merchCategory_hotels',\n",
       "       'merchCategory_mobileapps', 'merchCategory_online_gifts',\n",
       "       'merchCategory_online_retail', 'merchCategory_online_subscriptions',\n",
       "       'merchCategory_personal care', 'merchCategory_rideshare',\n",
       "       'merchCategory_subscriptions', 'merchCountry_CAN', 'merchCountry_MEX',\n",
       "       'merchCountry_PR', 'merchCountry_US', 'posCondition_01',\n",
       "       'posCondition_08', 'posCondition_99', 'posEntryMode_02',\n",
       "       'posEntryMode_05', 'posEntryMode_09', 'posEntryMode_80',\n",
       "       'posEntryMode_90', 'transType_ADDRESS_VERIFICATION',\n",
       "       'transType_PURCHASE', 'transType_REVERSAL'],\n",
       "      dtype='object')"
      ]
     },
     "execution_count": 40,
     "metadata": {},
     "output_type": "execute_result"
    }
   ],
   "source": [
    "columns"
   ]
  },
  {
   "cell_type": "code",
   "execution_count": 43,
   "metadata": {},
   "outputs": [],
   "source": [
    "#create oversampled datasets using SMOTE\n",
    "os_data_X, os_data_y = os.fit_sample(X_train, y_train)"
   ]
  },
  {
   "cell_type": "code",
   "execution_count": 44,
   "metadata": {},
   "outputs": [],
   "source": [
    "os_data_X = pd.DataFrame(data=os_data_X, columns=columns)\n",
    "os_data_y = pd.DataFrame(data=os_data_y, columns=['isFraud'])"
   ]
  },
  {
   "cell_type": "code",
   "execution_count": 45,
   "metadata": {},
   "outputs": [
    {
     "name": "stdout",
     "output_type": "stream",
     "text": [
      "Length of oversampled data is  1075934\n"
     ]
    }
   ],
   "source": [
    "#Let us inspect the new oversampled data\n",
    "\n",
    "print(\"Length of oversampled data is \", len(os_data_X))"
   ]
  },
  {
   "cell_type": "code",
   "execution_count": 46,
   "metadata": {},
   "outputs": [
    {
     "name": "stdout",
     "output_type": "stream",
     "text": [
      "The number of isFraud in oversampled data is  537967\n"
     ]
    }
   ],
   "source": [
    "print(\"The number of isFraud in oversampled data is \", len(os_data_y[os_data_y['isFraud']==1]))"
   ]
  },
  {
   "cell_type": "code",
   "execution_count": 47,
   "metadata": {},
   "outputs": [
    {
     "name": "stdout",
     "output_type": "stream",
     "text": [
      "The number of is not Fraud in oversampled data is  537967\n"
     ]
    }
   ],
   "source": [
    "print(\"The number of is not Fraud in oversampled data is \", len(os_data_y[os_data_y['isFraud']==0]))"
   ]
  },
  {
   "cell_type": "code",
   "execution_count": 48,
   "metadata": {},
   "outputs": [
    {
     "name": "stdout",
     "output_type": "stream",
     "text": [
      "Proportion of Fraud in oversampled data is 0.5\n"
     ]
    }
   ],
   "source": [
    "print(\"Proportion of Fraud in oversampled data is\", \n",
    "      len(os_data_y[os_data_y['isFraud']==1])/len(os_data_X))"
   ]
  },
  {
   "cell_type": "markdown",
   "metadata": {},
   "source": [
    "We oversampled only on the training dataset. None of the information used in the test data is being used to create synthetic observations."
   ]
  },
  {
   "cell_type": "markdown",
   "metadata": {},
   "source": [
    "## 4.4 Feature Selection Using Recursive feature elimination (RFE)\n",
    "\n",
    "\n",
    "- Logistic regression is a statistical model that in its basic form uses a logistic function to model a binary dependent variable (fraud/not-fraud). Logistic regression is estimating the parameters of a logistic model (a form of binary regression).\n",
    "\n",
    "- We have our oversampled dataset ready. Let us use a Python module (scikit-learn) to select statistically significant features. Recursive feature elimination (RFE) feature selection algorithm in scikit-learn to select features by recursively considering smaller and smaller sets of features."
   ]
  },
  {
   "cell_type": "code",
   "execution_count": 49,
   "metadata": {},
   "outputs": [],
   "source": [
    "df_final_vars = df_final.columns.values.tolist()"
   ]
  },
  {
   "cell_type": "code",
   "execution_count": 50,
   "metadata": {},
   "outputs": [],
   "source": [
    "#rename the dependent variable (isFraud) to y\n",
    "y=['isFraud']"
   ]
  },
  {
   "cell_type": "code",
   "execution_count": 51,
   "metadata": {},
   "outputs": [],
   "source": [
    "#list of predictive featutes\n",
    "X = [i for i in df_final_vars if i not in y]"
   ]
  },
  {
   "cell_type": "code",
   "execution_count": 52,
   "metadata": {},
   "outputs": [],
   "source": [
    "#import RFE\n",
    "from sklearn.feature_selection import RFE\n",
    "from sklearn.linear_model import LogisticRegression"
   ]
  },
  {
   "cell_type": "code",
   "execution_count": 53,
   "metadata": {},
   "outputs": [],
   "source": [
    "logreg = LogisticRegression()"
   ]
  },
  {
   "cell_type": "code",
   "execution_count": 54,
   "metadata": {},
   "outputs": [
    {
     "name": "stdout",
     "output_type": "stream",
     "text": [
      "[False False False False False False False False False False  True  True\n",
      "  True  True  True  True  True  True  True  True  True  True  True  True\n",
      "  True  True False  True  True False False False False False False False\n",
      " False  True False False False  True False False]\n",
      "[24 22 25 23 21 20 15  5  6 14  1  1  1  1  1  1  1  1  1  1  1  1  1  1\n",
      "  1  1  2  1  1 19 16  9 10  4  3  8 17  1  7 13 18  1 11 12]\n"
     ]
    }
   ],
   "source": [
    "#fit RFE\n",
    "rfe = RFE(logreg, 20)\n",
    "rfe = rfe.fit(os_data_X, os_data_y.values.ravel())\n",
    "print(rfe.support_)\n",
    "print(rfe.ranking_)"
   ]
  },
  {
   "cell_type": "markdown",
   "metadata": {},
   "source": [
    "Based on RFE, we have selected the following features. We will eliminate statistically insignificant variables to refine the model."
   ]
  },
  {
   "cell_type": "code",
   "execution_count": 55,
   "metadata": {},
   "outputs": [],
   "source": [
    "#List of selected features using RFE\n",
    "\n",
    "cols1=['merchCategory_airline', 'merchCategory_auto','merchCategory_cable/phone', 'merchCategory_entertainment',\n",
    "'merchCategory_fastfood', 'merchCategory_food','merchCategory_food_delivery', 'merchCategory_fuel',\n",
    "'merchCategory_furniture', 'merchCategory_gym','merchCategory_health', 'merchCategory_hotels',\n",
    "'merchCategory_mobileapps', 'merchCategory_online_gifts','merchCategory_online_retail',\n",
    "'merchCategory_online_subscriptions','merchCategory_rideshare','merchCategory_subscriptions', 'posEntryMode_05', \n",
    "'transType_ADDRESS_VERIFICATION'] \n",
    "\n",
    "X=os_data_X[cols1]\n",
    "y=os_data_y['isFraud']"
   ]
  },
  {
   "cell_type": "markdown",
   "metadata": {},
   "source": [
    "## 4.5 Selected Features Model Fitting\n",
    "\n",
    "- We will use statsmodels.api to estimate the selected model. Our dependent variables is a binary outcome (0/1). Hence, we will use a Logit model."
   ]
  },
  {
   "cell_type": "code",
   "execution_count": 56,
   "metadata": {},
   "outputs": [
    {
     "name": "stdout",
     "output_type": "stream",
     "text": [
      "Warning: Maximum number of iterations has been exceeded.\n",
      "         Current function value: 0.608307\n",
      "         Iterations: 35\n"
     ]
    },
    {
     "name": "stderr",
     "output_type": "stream",
     "text": [
      "/Users/zelalemabahana/anaconda3/lib/python3.7/site-packages/statsmodels/base/model.py:512: ConvergenceWarning: Maximum Likelihood optimization failed to converge. Check mle_retvals\n",
      "  \"Check mle_retvals\", ConvergenceWarning)\n"
     ]
    },
    {
     "name": "stdout",
     "output_type": "stream",
     "text": [
      "                                               Results: Logit\n",
      "=============================================================================================================\n",
      "Model:                            Logit                          Pseudo R-squared:               0.122       \n",
      "Dependent Variable:               isFraud                        AIC:                            1309036.8817\n",
      "Date:                             2020-11-11 03:33               BIC:                            1309274.6557\n",
      "No. Observations:                 1075934                        Log-Likelihood:                 -6.5450e+05 \n",
      "Df Model:                         19                             LL-Null:                        -7.4578e+05 \n",
      "Df Residuals:                     1075914                        LLR p-value:                    0.0000      \n",
      "Converged:                        0.0000                         Scale:                          1.0000      \n",
      "No. Iterations:                   35.0000                                                                    \n",
      "-------------------------------------------------------------------------------------------------------------\n",
      "                                    Coef.       Std.Err.        z     P>|z|       [0.025           0.975]    \n",
      "-------------------------------------------------------------------------------------------------------------\n",
      "merchCategory_airline                1.3991          0.0138  101.2722 0.0000           1.3721          1.4262\n",
      "merchCategory_auto                   0.1144          0.0138    8.2951 0.0000           0.0874          0.1415\n",
      "merchCategory_cable/phone          -20.9621       1367.8765   -0.0153 0.9878       -2701.9508       2660.0266\n",
      "merchCategory_entertainment          0.0793          0.0073   10.8332 0.0000           0.0650          0.0937\n",
      "merchCategory_fastfood              -0.2213          0.0066  -33.5172 0.0000          -0.2343         -0.2084\n",
      "merchCategory_food                   0.1245          0.0074   16.8256 0.0000           0.1100          0.1390\n",
      "merchCategory_food_delivery        -21.6856        916.9030   -0.0237 0.9811       -1818.7824       1775.4112\n",
      "merchCategory_fuel                 -20.2020        220.6593   -0.0916 0.9271        -452.6862        412.2823\n",
      "merchCategory_furniture              0.1643          0.0232    7.0974 0.0000           0.1189          0.2097\n",
      "merchCategory_gym                  -19.5553        513.0823   -0.0381 0.9696       -1025.1781        986.0675\n",
      "merchCategory_health                -0.9070          0.0192  -47.1363 0.0000          -0.9447         -0.8693\n",
      "merchCategory_hotels                -0.5498          0.0128  -42.9588 0.0000          -0.5748         -0.5247\n",
      "merchCategory_mobileapps           -50.5410 1085253408.8052   -0.0000 1.0000 -2127057645.8985 2127057544.8164\n",
      "merchCategory_online_gifts           0.7920          0.0068  116.9592 0.0000           0.7787          0.8053\n",
      "merchCategory_online_retail          0.8440          0.0041  207.3000 0.0000           0.8360          0.8520\n",
      "merchCategory_online_subscriptions -21.2336        549.7743   -0.0386 0.9692       -1098.7714       1056.3043\n",
      "merchCategory_rideshare              0.8815          0.0079  111.0057 0.0000           0.8659          0.8970\n",
      "merchCategory_subscriptions         -0.3582          0.0149  -24.0182 0.0000          -0.3875         -0.3290\n",
      "posEntryMode_05                     -1.1461          0.0050 -230.2054 0.0000          -1.1558         -1.1363\n",
      "transType_ADDRESS_VERIFICATION      -1.3698          0.0194  -70.4543 0.0000          -1.4079         -1.3317\n",
      "=============================================================================================================\n",
      "\n"
     ]
    }
   ],
   "source": [
    "#Fit the model using the selected features\n",
    "import statsmodels.api as sm\n",
    "logit_model = sm.Logit(y,X)\n",
    "result = logit_model.fit()\n",
    "print(result.summary2())"
   ]
  },
  {
   "cell_type": "markdown",
   "metadata": {},
   "source": [
    "The following variables not statistically; hence, we will drop them: \n",
    "\n",
    "- merchCategory_cable/phone\n",
    "- merchCategory_food_delivery\n",
    "- merchCategory_fuel\n",
    "- merchCategory_gym\n",
    "- merchCategory_mobileapps\n",
    "- merchCategory_online_subscriptions"
   ]
  },
  {
   "cell_type": "code",
   "execution_count": 60,
   "metadata": {},
   "outputs": [],
   "source": [
    "#Updated list of selected features using RFE\n",
    "cols2=['merchCategory_airline', 'merchCategory_auto','merchCategory_entertainment','merchCategory_fastfood', \n",
    "'merchCategory_food','merchCategory_furniture', 'merchCategory_health', 'merchCategory_hotels', \n",
    "'merchCategory_online_gifts','merchCategory_online_retail', 'merchCategory_online_subscriptions',\n",
    "'merchCategory_rideshare', 'posEntryMode_05', 'transType_ADDRESS_VERIFICATION']\n",
    "\n",
    "X=os_data_X[cols2]\n",
    "y=os_data_y['isFraud']"
   ]
  },
  {
   "cell_type": "code",
   "execution_count": 61,
   "metadata": {},
   "outputs": [
    {
     "name": "stdout",
     "output_type": "stream",
     "text": [
      "Warning: Maximum number of iterations has been exceeded.\n",
      "         Current function value: 0.625055\n",
      "         Iterations: 35\n"
     ]
    },
    {
     "name": "stderr",
     "output_type": "stream",
     "text": [
      "/Users/zelalemabahana/anaconda3/lib/python3.7/site-packages/statsmodels/base/model.py:512: ConvergenceWarning: Maximum Likelihood optimization failed to converge. Check mle_retvals\n",
      "  \"Check mle_retvals\", ConvergenceWarning)\n"
     ]
    },
    {
     "name": "stdout",
     "output_type": "stream",
     "text": [
      "                                     Results: Logit\n",
      "========================================================================================\n",
      "Model:                     Logit                   Pseudo R-squared:        0.098       \n",
      "Dependent Variable:        isFraud                 AIC:                     1345062.9301\n",
      "Date:                      2020-11-11 03:39        BIC:                     1345229.3719\n",
      "No. Observations:          1075934                 Log-Likelihood:          -6.7252e+05 \n",
      "Df Model:                  13                      LL-Null:                 -7.4578e+05 \n",
      "Df Residuals:              1075920                 LLR p-value:             0.0000      \n",
      "Converged:                 0.0000                  Scale:                   1.0000      \n",
      "No. Iterations:            35.0000                                                      \n",
      "----------------------------------------------------------------------------------------\n",
      "                                    Coef.   Std.Err.     z     P>|z|    [0.025   0.975] \n",
      "----------------------------------------------------------------------------------------\n",
      "merchCategory_airline                1.4298   0.0139  103.1575 0.0000    1.4026   1.4569\n",
      "merchCategory_auto                   0.1374   0.0139    9.9220 0.0000    0.1103   0.1646\n",
      "merchCategory_entertainment          0.1044   0.0073   14.2249 0.0000    0.0900   0.1188\n",
      "merchCategory_fastfood              -0.1991   0.0066  -30.0887 0.0000   -0.2120  -0.1861\n",
      "merchCategory_food                   0.1468   0.0074   19.7866 0.0000    0.1322   0.1613\n",
      "merchCategory_furniture              0.1859   0.0233    7.9960 0.0000    0.1403   0.2315\n",
      "merchCategory_health                -0.8889   0.0193  -46.0749 0.0000   -0.9267  -0.8511\n",
      "merchCategory_hotels                -0.5321   0.0128  -41.4567 0.0000   -0.5573  -0.5070\n",
      "merchCategory_online_gifts           0.8140   0.0068  119.8418 0.0000    0.8006   0.8273\n",
      "merchCategory_online_retail          0.8673   0.0041  212.8461 0.0000    0.8593   0.8753\n",
      "merchCategory_online_subscriptions -20.0467 306.0642   -0.0655 0.9478 -619.9216 579.8282\n",
      "merchCategory_rideshare              0.9055   0.0080  113.6584 0.0000    0.8899   0.9211\n",
      "posEntryMode_05                     -1.2298   0.0049 -253.4659 0.0000   -1.2393  -1.2203\n",
      "transType_ADDRESS_VERIFICATION      -1.3805   0.0195  -70.8655 0.0000   -1.4186  -1.3423\n",
      "========================================================================================\n",
      "\n"
     ]
    }
   ],
   "source": [
    "#Fit the model using the selected features\n",
    "import statsmodels.api as sm\n",
    "logit_model = sm.Logit(y,X)\n",
    "result = logit_model.fit()\n",
    "print(result.summary2())"
   ]
  },
  {
   "cell_type": "markdown",
   "metadata": {},
   "source": [
    "- We will further drop the following variables:\n",
    "    \n",
    "    - merchCategory_online_subscriptions"
   ]
  },
  {
   "cell_type": "code",
   "execution_count": 62,
   "metadata": {},
   "outputs": [],
   "source": [
    "#Updated list of selected features using RFE\n",
    "cols3=['merchCategory_airline', 'merchCategory_auto','merchCategory_entertainment','merchCategory_fastfood', \n",
    "'merchCategory_food','merchCategory_furniture', 'merchCategory_health', 'merchCategory_hotels',\n",
    "'merchCategory_online_gifts','merchCategory_online_retail','merchCategory_rideshare', 'posEntryMode_05', \n",
    "'transType_ADDRESS_VERIFICATION']\n",
    "\n",
    "X=os_data_X[cols3]\n",
    "y=os_data_y['isFraud']"
   ]
  },
  {
   "cell_type": "code",
   "execution_count": 63,
   "metadata": {},
   "outputs": [
    {
     "name": "stdout",
     "output_type": "stream",
     "text": [
      "Optimization terminated successfully.\n",
      "         Current function value: 0.628710\n",
      "         Iterations 5\n",
      "                                 Results: Logit\n",
      "================================================================================\n",
      "Model:                   Logit                Pseudo R-squared:     0.093       \n",
      "Dependent Variable:      isFraud              AIC:                  1352927.0566\n",
      "Date:                    2020-11-11 03:40     BIC:                  1353081.6097\n",
      "No. Observations:        1075934              Log-Likelihood:       -6.7645e+05 \n",
      "Df Model:                12                   LL-Null:              -7.4578e+05 \n",
      "Df Residuals:            1075921              LLR p-value:          0.0000      \n",
      "Converged:               1.0000               Scale:                1.0000      \n",
      "No. Iterations:          5.0000                                                 \n",
      "--------------------------------------------------------------------------------\n",
      "                                Coef.  Std.Err.     z     P>|z|   [0.025  0.975]\n",
      "--------------------------------------------------------------------------------\n",
      "merchCategory_airline           1.4365   0.0139  103.5688 0.0000  1.4093  1.4637\n",
      "merchCategory_auto              0.1424   0.0139   10.2692 0.0000  0.1152  0.1696\n",
      "merchCategory_entertainment     0.1097   0.0073   14.9347 0.0000  0.0953  0.1241\n",
      "merchCategory_fastfood         -0.1944   0.0066  -29.3674 0.0000 -0.2073 -0.1814\n",
      "merchCategory_food              0.1515   0.0074   20.4112 0.0000  0.1370  0.1661\n",
      "merchCategory_furniture         0.1906   0.0233    8.1916 0.0000  0.1450  0.2363\n",
      "merchCategory_health           -0.8851   0.0193  -45.8536 0.0000 -0.9229 -0.8472\n",
      "merchCategory_hotels           -0.5284   0.0128  -41.1389 0.0000 -0.5535 -0.5032\n",
      "merchCategory_online_gifts      0.8187   0.0068  120.4557 0.0000  0.8054  0.8320\n",
      "merchCategory_online_retail     0.8724   0.0041  214.0435 0.0000  0.8644  0.8804\n",
      "merchCategory_rideshare         0.9107   0.0080  114.2273 0.0000  0.8951  0.9263\n",
      "posEntryMode_05                -1.2472   0.0048 -258.2911 0.0000 -1.2567 -1.2377\n",
      "transType_ADDRESS_VERIFICATION -1.3812   0.0195  -70.8617 0.0000 -1.4195 -1.3430\n",
      "================================================================================\n",
      "\n"
     ]
    }
   ],
   "source": [
    "#Fit the model using the selected features\n",
    "import statsmodels.api as sm\n",
    "logit_model = sm.Logit(y,X)\n",
    "result = logit_model.fit()\n",
    "print(result.summary2())"
   ]
  },
  {
   "cell_type": "markdown",
   "metadata": {},
   "source": [
    "## 4.6 Model Performance Testing\n",
    "\n",
    "- We have the model specification and coefficient estimation on the training set. Let us test the model performance on the test set. \n",
    "\n",
    "- Let us use the commonly used performance matrices for classification models: Confusion Matrix, Precision, Recall, and F-measure, and the ROC Curve.\n"
   ]
  },
  {
   "cell_type": "code",
   "execution_count": 64,
   "metadata": {},
   "outputs": [
    {
     "data": {
      "text/plain": [
       "LogisticRegression()"
      ]
     },
     "execution_count": 64,
     "metadata": {},
     "output_type": "execute_result"
    }
   ],
   "source": [
    "from sklearn.linear_model import LogisticRegression\n",
    "from sklearn import metrics\n",
    "\n",
    "X_train, X_test, y_train, y_test = train_test_split(X,y,test_size=0.3, random_state=0)\n",
    "logreg = LogisticRegression()\n",
    "logreg.fit(X_train, y_train)"
   ]
  },
  {
   "cell_type": "code",
   "execution_count": 65,
   "metadata": {},
   "outputs": [
    {
     "name": "stdout",
     "output_type": "stream",
     "text": [
      "Accuracy of logistic regression classifier on the test set: 0.67\n"
     ]
    }
   ],
   "source": [
    "y_pred = logreg.predict(X_test)\n",
    "print('Accuracy of logistic regression classifier on the test set: {:.2f}'.format(logreg.score(X_test, y_test)))"
   ]
  },
  {
   "cell_type": "markdown",
   "metadata": {},
   "source": [
    "### i. Confusion Matrix\n",
    "\n",
    "-  Confusion matrix is a table that is often used to describe the performance of a classification model on a set of test data for which the true values are known. The confusion matrix tells us the correct and incorrect predictions the model made on the test set."
   ]
  },
  {
   "cell_type": "code",
   "execution_count": 66,
   "metadata": {},
   "outputs": [
    {
     "name": "stdout",
     "output_type": "stream",
     "text": [
      "[[ 98979  62174]\n",
      " [ 45654 115974]]\n"
     ]
    }
   ],
   "source": [
    "from sklearn.metrics import confusion_matrix\n",
    "confusion_matrix = confusion_matrix(y_test, y_pred)\n",
    "print(confusion_matrix)"
   ]
  },
  {
   "cell_type": "markdown",
   "metadata": {},
   "source": [
    "- Out of 322,781 test sets the model has:\n",
    "\n",
    "    - Correct Predictions: 98979 + 115974 = 214,953\n",
    "\n",
    "    - Incorrect Predictions: 45654 + 62174 = 107,828\n",
    "\n"
   ]
  },
  {
   "cell_type": "markdown",
   "metadata": {},
   "source": [
    "### ii. Precision, Recall, Accuracy and F-measure\n",
    "\n",
    "- Precision - ability of the clacifier not to label a sample as positive when it's negative.\n",
    "\n",
    "- Recall - ability of the clacifier to find all positive samples.\n",
    "\n",
    "- F-Beta weighted harmonic mean of the precision and recall. best value 1, worst 0."
   ]
  },
  {
   "cell_type": "code",
   "execution_count": 67,
   "metadata": {},
   "outputs": [
    {
     "name": "stdout",
     "output_type": "stream",
     "text": [
      "              precision    recall  f1-score   support\n",
      "\n",
      "         0.0       0.68      0.61      0.65    161153\n",
      "         1.0       0.65      0.72      0.68    161628\n",
      "\n",
      "    accuracy                           0.67    322781\n",
      "   macro avg       0.67      0.67      0.67    322781\n",
      "weighted avg       0.67      0.67      0.67    322781\n",
      "\n"
     ]
    }
   ],
   "source": [
    "from sklearn.metrics import classification_report\n",
    "print(classification_report(y_test, y_pred))"
   ]
  },
  {
   "cell_type": "markdown",
   "metadata": {},
   "source": [
    "The model has a weighted average precision, recall and F-1 rate of about .67."
   ]
  },
  {
   "cell_type": "markdown",
   "metadata": {},
   "source": [
    "#### iii. ROC Curve\n",
    "\n",
    "- An ROC curve (receiver operating characteristic curve) is a graph showing the performance of a classification model at all classification thresholds. This curve plots two parameters: True Positive Rate. False Positive Rate."
   ]
  },
  {
   "cell_type": "code",
   "execution_count": 68,
   "metadata": {},
   "outputs": [
    {
     "data": {
      "image/png": "[encoded data removed]",
      "text/plain": [
       "<Figure size 432x288 with 1 Axes>"
      ]
     },
     "metadata": {
      "needs_background": "light"
     },
     "output_type": "display_data"
    }
   ],
   "source": [
    "from sklearn.metrics import roc_auc_score\n",
    "from sklearn.metrics import roc_curve\n",
    "logit_roc_auc = roc_auc_score(y_test, logreg.predict(X_test))\n",
    "fpr, tpr, thresholds = roc_curve(y_test, logreg.predict_proba(X_test)[:,1])\n",
    "plt.figure()\n",
    "plt.plot(fpr, tpr, label='Logistic Regression (area = %0.2f)' % logit_roc_auc)\n",
    "plt.plot([0, 1], [0, 1],'r--')\n",
    "plt.xlim([0.0, 1.0])\n",
    "plt.ylim([0.0, 1.05])\n",
    "plt.xlabel('False Positive Rate')\n",
    "plt.ylabel('True Positive Rate')\n",
    "plt.title('Receiver operating characteristic')\n",
    "plt.legend(loc=\"lower right\")\n",
    "plt.savefig('Log_ROC')\n",
    "plt.show()"
   ]
  },
  {
   "cell_type": "markdown",
   "metadata": {},
   "source": [
    "- the model's performance in terms of ROC is .67."
   ]
  },
  {
   "cell_type": "markdown",
   "metadata": {},
   "source": [
    "# Conclusions and Next Steps:"
   ]
  },
  {
   "cell_type": "markdown",
   "metadata": {},
   "source": [
    "Conclusions:\n",
    "\n",
    "- We noticed that the fraud cases are only 1.57%, and it statistically reasonable to oversample the population for a better statistical learning of classification algorithm.\n",
    "- Studies have shown that over-sampling the minority class and under-sampling the majority (normal) class can achieve better classifier performance. \n",
    "- we over-sampled the minority class using a method called Synthetic Minority Over-sampling Technique (SMOTE). Our goal is to have equal number of fraud/no-fraud observation using a synthetic oversampling.\n",
    "- Once we have an oversampled dataset, we will create training and test samples for model fitting and performance testing purposes. We used 70/30% proportion for traning and testing given we have a descent amount of data records (about a million records after oversampling).\n",
    "- We have the model specification and coefficient estimation on the training set. Let us test the model performance on the test set. \n",
    "\n",
    "- We used the commonly used performance matrices for classification models: Confusion Matrix, Precision, Recall, and F-measure, and the ROC Curve. \n",
    "\n",
    "- Out of 322,781 test sets the model has:\n",
    "\n",
    "    - Correct Predictions: 98979 + 115974 = 214,953\n",
    "    - Incorrect Predictions: 45654 + 62174 = 107,828\n",
    "\n",
    "- The model has a weighted average precision, recall, accuracy and F-1 rates of about .67.\n",
    "\n",
    "Next steps:\n",
    "\n",
    "- Overall, the model performance can be improved by other measures:\n",
    "    - using more advanced learning algorithms, such as Neural Nets and reinforcement learning\n",
    "    - the data appears to be from a limited time period (2016). More historical data can provide more information for the algorithm to learn\n",
    "    - discussing with the line of business on aquiring other relevant features can also help develop a more robust model\n"
   ]
  },
  {
   "cell_type": "code",
   "execution_count": null,
   "metadata": {},
   "outputs": [],
   "source": []
  }
 ],
 "metadata": {
  "kernelspec": {
   "display_name": "Python 3",
   "language": "python",
   "name": "python3"
  },
  "language_info": {
   "codemirror_mode": {
    "name": "ipython",
    "version": 3
   },
   "file_extension": ".py",
   "mimetype": "text/x-python",
   "name": "python",
   "nbconvert_exporter": "python",
   "pygments_lexer": "ipython3",
   "version": "3.7.3"
  }
 },
 "nbformat": 4,
 "nbformat_minor": 2
}
